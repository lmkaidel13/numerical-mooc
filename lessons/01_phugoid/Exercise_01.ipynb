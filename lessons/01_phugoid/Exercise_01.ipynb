{
 "cells": [
  {
   "cell_type": "code",
   "execution_count": 1,
   "metadata": {},
   "outputs": [],
   "source": [
    "import numpy as np"
   ]
  },
  {
   "cell_type": "code",
   "execution_count": 6,
   "metadata": {},
   "outputs": [
    {
     "name": "stdout",
     "output_type": "stream",
     "text": [
      "6.261904761904762\n",
      "[ 4.          4.45238095  4.9047619   5.35714286  5.80952381  6.26190476\n",
      "  6.71428571  7.16666667  7.61904762  8.07142857  8.52380952  8.97619048\n",
      "  9.42857143  9.88095238 10.33333333 10.78571429 11.23809524 11.69047619\n",
      " 12.14285714 12.5952381  13.04761905 13.5        13.95238095 14.4047619\n",
      " 14.85714286 15.30952381 15.76190476 16.21428571 16.66666667 17.11904762\n",
      " 17.57142857 18.02380952 18.47619048 18.92857143 19.38095238 19.83333333\n",
      " 20.28571429 20.73809524 21.19047619 21.64285714 22.0952381  22.54761905\n",
      " 23.        ]\n"
     ]
    }
   ],
   "source": [
    "a_1=np.linspace(4,23,43)\n",
    "print(a_1[5])\n",
    "print(a_1)"
   ]
  },
  {
   "cell_type": "code",
   "execution_count": 7,
   "metadata": {},
   "outputs": [],
   "source": [
    "ones_array = np.ones( (5,17) ) \n",
    "zeros_array = np.zeros( ones_array.shape ) "
   ]
  },
  {
   "cell_type": "code",
   "execution_count": 9,
   "metadata": {},
   "outputs": [],
   "source": [
    "p = 7\n",
    "r = np.array([11.2, 4.7, 6.6])"
   ]
  },
  {
   "cell_type": "code",
   "execution_count": 12,
   "metadata": {},
   "outputs": [
    {
     "name": "stdout",
     "output_type": "stream",
     "text": [
      "[0.20030151 0.99009101 0.66454238]\n"
     ]
    }
   ],
   "source": [
    "val_1=(np.sin(p/r))**3\n",
    "print(val_1)"
   ]
  },
  {
   "cell_type": "code",
   "execution_count": null,
   "metadata": {},
   "outputs": [],
   "source": []
  }
 ],
 "metadata": {
  "kernelspec": {
   "display_name": "Python 3",
   "language": "python",
   "name": "python3"
  },
  "language_info": {
   "codemirror_mode": {
    "name": "ipython",
    "version": 3
   },
   "file_extension": ".py",
   "mimetype": "text/x-python",
   "name": "python",
   "nbconvert_exporter": "python",
   "pygments_lexer": "ipython3",
   "version": "3.8.5"
  }
 },
 "nbformat": 4,
 "nbformat_minor": 4
}
